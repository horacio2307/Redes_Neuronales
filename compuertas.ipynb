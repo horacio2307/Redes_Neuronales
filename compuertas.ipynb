{
 "metadata": {
  "language_info": {
   "codemirror_mode": {
    "name": "ipython",
    "version": 3
   },
   "file_extension": ".py",
   "mimetype": "text/x-python",
   "name": "python",
   "nbconvert_exporter": "python",
   "pygments_lexer": "ipython3",
   "version": "3.8.7"
  },
  "orig_nbformat": 2,
  "kernelspec": {
   "name": "python387jvsc74a57bd0b0315d2503287fe28d423986d9df57cc636c96d352d856ed8482261c6a0650c5",
   "display_name": "Python 3.8.7 64-bit"
  },
  "metadata": {
   "interpreter": {
    "hash": "b0315d2503287fe28d423986d9df57cc636c96d352d856ed8482261c6a0650c5"
   }
  }
 },
 "nbformat": 4,
 "nbformat_minor": 2,
 "cells": [
  {
   "cell_type": "code",
   "execution_count": null,
   "metadata": {},
   "outputs": [],
   "source": [
    "import numpy as np"
   ]
  },
  {
   "cell_type": "code",
   "execution_count": null,
   "metadata": {},
   "outputs": [],
   "source": [
    "class Neuronal_Network:\n",
    "\n",
    "    def __init__(self):\n",
    "        self.weights = 10*np.random.random(3)\n",
    "        self.data = np.array([[-1,-1,-1],[-1,1,-1],[1,-1,-1],[1,1,-1]])\n",
    "        self.target = np.array([-1,1,1,1]) #Para or\n",
    "        #self.target = np.array([-1,1,1,1]) Para and\n",
    "\n",
    "    def h(self,i):\n",
    "        a = np.dot(self.weights,self.data[i])\n",
    "\n",
    "\n",
    "        a = 1 / (1 + np.exp(-a))\n",
    "        if a < 0.5:\n",
    "            return -1\n",
    "\n",
    "        else:\n",
    "            return 1\n",
    "    \n",
    "    def test(self,inputs):\n",
    "        a = np.dot(self.weights,inputs)\n",
    "        a = 1 / (1 + np.exp(-a))\n",
    "        if a < 0.5:\n",
    "            return -1\n",
    "\n",
    "        else:\n",
    "            return 1\n",
    "\n",
    "\n",
    "    def train(self,i,inputs): #Inputs should be 1x3 [x,y,-1]\n",
    "        self.weights = self.weights + self.target[i]*inputs\n",
    "\n",
    "    \n",
    "   \n",
    "        \n",
    "        \n"
   ]
  },
  {
   "cell_type": "code",
   "execution_count": null,
   "metadata": {},
   "outputs": [],
   "source": [
    "Neurona = Neuronal_Network()"
   ]
  },
  {
   "cell_type": "code",
   "execution_count": null,
   "metadata": {},
   "outputs": [],
   "source": [
    "answers = np.zeros(4)"
   ]
  },
  {
   "cell_type": "code",
   "execution_count": null,
   "metadata": {},
   "outputs": [],
   "source": [
    "for i in range(4):\n",
    "    print(Neurona.h(i))\n",
    "    if Neurona.h(i)==Neurona.target[i]:\n",
    "        answers[i] = 1\n",
    "answers"
   ]
  },
  {
   "cell_type": "code",
   "execution_count": null,
   "metadata": {},
   "outputs": [],
   "source": [
    "i = 0\n",
    "while i < 4 :\n",
    "    if Neurona.h(i) != Neurona.target[i]:\n",
    "        Neurona.train(i,Neurona.data[i])\n",
    "        i=0\n",
    "    else:\n",
    "        i+=1\n"
   ]
  },
  {
   "cell_type": "code",
   "execution_count": null,
   "metadata": {},
   "outputs": [],
   "source": [
    "print(\"Neurona entrenada :)\")\n",
    "print(\"Valores de los pesos {}\".format(Neurona.weights))"
   ]
  },
  {
   "cell_type": "code",
   "execution_count": null,
   "metadata": {},
   "outputs": [],
   "source": [
    "x = Neurona.test([-1,-1,-1])"
   ]
  },
  {
   "cell_type": "code",
   "execution_count": null,
   "metadata": {},
   "outputs": [],
   "source": [
    "def pedir():\n",
    "    x = [0,0,-1]\n",
    "    for i in range(2):\n",
    "        x[i] = int(input(\"Ingrese la entrada {}\".format(i+1)))\n",
    "        if x[i] <= 0:\n",
    "            x[i] = -1\n",
    "        else:\n",
    "            x[i] = 1\n",
    "    \n",
    "    return x"
   ]
  },
  {
   "cell_type": "code",
   "execution_count": null,
   "metadata": {},
   "outputs": [],
   "source": [
    "[x,y,z] = pedir()\n",
    "print(x,y,z)"
   ]
  },
  {
   "cell_type": "code",
   "execution_count": null,
   "metadata": {},
   "outputs": [],
   "source": [
    "lista = pedir()\n",
    "Neurona.test(lista)"
   ]
  },
  {
   "cell_type": "code",
   "execution_count": null,
   "metadata": {},
   "outputs": [],
   "source": [
    "for i in range (4):\n",
    "    lista = pedir()\n",
    "    print(Neurona.test(lista))"
   ]
  }
 ]
}